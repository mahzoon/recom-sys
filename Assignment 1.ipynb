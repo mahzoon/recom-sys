{
 "cells": [
  {
   "cell_type": "markdown",
   "metadata": {},
   "source": [
    "# Assignment 1: Non-personalized metrics"
   ]
  },
  {
   "cell_type": "markdown",
   "metadata": {},
   "source": [
    "## Reading Data"
   ]
  },
  {
   "cell_type": "code",
   "execution_count": 1,
   "metadata": {
    "collapsed": true
   },
   "outputs": [],
   "source": [
    "import pandas as pd"
   ]
  },
  {
   "cell_type": "code",
   "execution_count": 2,
   "metadata": {
    "collapsed": false
   },
   "outputs": [],
   "source": [
    "data = pd.read_csv('./RatingMatrix7-2.txt')\n",
    "# filter the first column containing user ids\n",
    "data = data[data.columns[1:]]"
   ]
  },
  {
   "cell_type": "markdown",
   "metadata": {},
   "source": [
    "## Rate Count"
   ]
  },
  {
   "cell_type": "code",
   "execution_count": 3,
   "metadata": {
    "collapsed": false
   },
   "outputs": [
    {
     "data": {
      "text/plain": [
       "ItemID82    48\n",
       "ItemID77    46\n",
       "ItemID63    44\n",
       "ItemID34    44\n",
       "ItemID79    44\n",
       "ItemID52    44\n",
       "ItemID25    44\n",
       "ItemID41    44\n",
       "ItemID14    44\n",
       "ItemID84    43\n",
       "ItemID86    43\n",
       "ItemID38    43\n",
       "ItemID24    43\n",
       "ItemID8     43\n",
       "ItemID3     43\n",
       "ItemID61    43\n",
       "ItemID29    42\n",
       "ItemID69    42\n",
       "ItemID55    42\n",
       "ItemID58    42\n",
       "ItemID50    42\n",
       "ItemID12    42\n",
       "ItemID90    42\n",
       "ItemID97    42\n",
       "ItemID7     42\n",
       "ItemID21    42\n",
       "ItemID81    42\n",
       "ItemID17    42\n",
       "ItemID16    41\n",
       "ItemID32    41\n",
       "dtype: int64"
      ]
     },
     "execution_count": 3,
     "metadata": {},
     "output_type": "execute_result"
    }
   ],
   "source": [
    "rate_count = data.count()\n",
    "rate_count = rate_count.sort_values(ascending=False)\n",
    "rate_count.head(30)"
   ]
  },
  {
   "cell_type": "markdown",
   "metadata": {},
   "source": [
    "## Mean Count"
   ]
  },
  {
   "cell_type": "code",
   "execution_count": 4,
   "metadata": {
    "collapsed": false
   },
   "outputs": [
    {
     "data": {
      "text/plain": [
       "ItemID18    3.078947\n",
       "ItemID21    2.857143\n",
       "ItemID12    2.809524\n",
       "ItemID24    2.790698\n",
       "ItemID59    2.769231\n",
       "ItemID49    2.743590\n",
       "ItemID11    2.725000\n",
       "ItemID94    2.722222\n",
       "ItemID32    2.707317\n",
       "ItemID22    2.707317\n",
       "dtype: float64"
      ]
     },
     "execution_count": 4,
     "metadata": {},
     "output_type": "execute_result"
    }
   ],
   "source": [
    "mean_count = data.mean()\n",
    "mean_count = mean_count.sort_values(ascending=False)\n",
    "mean_count.head(10)"
   ]
  },
  {
   "cell_type": "markdown",
   "metadata": {},
   "source": [
    "## Good Rating Percentage"
   ]
  },
  {
   "cell_type": "markdown",
   "metadata": {},
   "source": [
    "Good rating = ratings which is more than 4"
   ]
  },
  {
   "cell_type": "code",
   "execution_count": 5,
   "metadata": {
    "collapsed": false
   },
   "outputs": [
    {
     "data": {
      "text/plain": [
       "ItemID21    34.0\n",
       "ItemID18    32.0\n",
       "ItemID32    30.0\n",
       "ItemID12    30.0\n",
       "ItemID22    30.0\n",
       "ItemID25    28.0\n",
       "ItemID24    28.0\n",
       "ItemID59    28.0\n",
       "ItemID31    28.0\n",
       "ItemID16    28.0\n",
       "ItemID49    26.0\n",
       "ItemID38    26.0\n",
       "ItemID86    26.0\n",
       "ItemID50    26.0\n",
       "ItemID19    26.0\n",
       "ItemID11    26.0\n",
       "ItemID28    24.0\n",
       "ItemID8     24.0\n",
       "ItemID60    24.0\n",
       "ItemID36    24.0\n",
       "dtype: float64"
      ]
     },
     "execution_count": 5,
     "metadata": {},
     "output_type": "execute_result"
    }
   ],
   "source": [
    "good_ratings = data[data>=4].count()\n",
    "good_ratings_percentage = good_ratings * 100.0 / 50.0\n",
    "good_ratings_percentage = good_ratings_percentage.sort_values(ascending=False)\n",
    "good_ratings_percentage.head(20)"
   ]
  },
  {
   "cell_type": "markdown",
   "metadata": {},
   "source": [
    "## Top 5 associated with ItemID1"
   ]
  },
  {
   "cell_type": "markdown",
   "metadata": {},
   "source": [
    "To find top 5 associated items with ItemID1 we need to create a co-occurrences matrix.<br />\n",
    "Then the answer would be the first row of the co-occurrences matrix."
   ]
  },
  {
   "cell_type": "markdown",
   "metadata": {},
   "source": [
    "To build the co-occurrences matrix we need to first create a \"rating existence\" matrix which is identical to the rating matrix but has only 0s and 1s showing the existence of ratings.<br />\n",
    "Then, the dot product of the rating existence matrix generates the co-occurrences matrix.<br />\n",
    "Finally, to find the answer we retrieve the first row of the co-occurrences matrix and sort it by its values."
   ]
  },
  {
   "cell_type": "code",
   "execution_count": 6,
   "metadata": {
    "collapsed": false
   },
   "outputs": [
    {
     "data": {
      "text/plain": [
       "ItemID1     40.0\n",
       "ItemID82    39.0\n",
       "ItemID77    38.0\n",
       "ItemID25    37.0\n",
       "ItemID41    36.0\n",
       "ItemID63    36.0\n",
       "ItemID8     36.0\n",
       "ItemID38    35.0\n",
       "ItemID58    35.0\n",
       "ItemID16    35.0\n",
       "ItemID79    35.0\n",
       "ItemID21    35.0\n",
       "ItemID7     35.0\n",
       "ItemID34    35.0\n",
       "ItemID14    35.0\n",
       "ItemID97    35.0\n",
       "ItemID52    35.0\n",
       "ItemID55    35.0\n",
       "ItemID61    35.0\n",
       "ItemID12    34.0\n",
       "Name: ItemID1, dtype: float64"
      ]
     },
     "execution_count": 6,
     "metadata": {},
     "output_type": "execute_result"
    }
   ],
   "source": [
    "# replacing NaN (no rating) with 0\n",
    "rating_existence = data.fillna(0)\n",
    "# replacing any existing ratings with 1\n",
    "rating_existence[rating_existence>0] = 1\n",
    "# calculate the dot product\n",
    "co_occurrences = rating_existence.T.dot(rating_existence)\n",
    "# the answer is the first row sorted by its values\n",
    "item1_coocc = co_occurrences.iloc[0].sort_values(ascending=False)\n",
    "item1_coocc.head(20)"
   ]
  },
  {
   "cell_type": "markdown",
   "metadata": {},
   "source": [
    "## Correlation with ItemID1"
   ]
  },
  {
   "cell_type": "code",
   "execution_count": 7,
   "metadata": {
    "collapsed": false
   },
   "outputs": [
    {
     "data": {
      "text/plain": [
       "ItemID1     1.000000\n",
       "ItemID15    0.309653\n",
       "ItemID87    0.304399\n",
       "ItemID35    0.300224\n",
       "ItemID56    0.288287\n",
       "ItemID31    0.269348\n",
       "ItemID17    0.268574\n",
       "ItemID92    0.265097\n",
       "ItemID47    0.252579\n",
       "ItemID45    0.242551\n",
       "Name: ItemID1, dtype: float64"
      ]
     },
     "execution_count": 7,
     "metadata": {},
     "output_type": "execute_result"
    }
   ],
   "source": [
    "correlation_methods = ['pearson', 'kendall', 'spearman']\n",
    "cor = data.corr(method=correlation_methods[0])\n",
    "cor = cor.iloc[0].sort_values(ascending=False)\n",
    "cor.head(10)"
   ]
  }
 ],
 "metadata": {
  "kernelspec": {
   "display_name": "Python 2",
   "language": "python",
   "name": "python2"
  },
  "language_info": {
   "codemirror_mode": {
    "name": "ipython",
    "version": 2
   },
   "file_extension": ".py",
   "mimetype": "text/x-python",
   "name": "python",
   "nbconvert_exporter": "python",
   "pygments_lexer": "ipython2",
   "version": "2.7.11"
  }
 },
 "nbformat": 4,
 "nbformat_minor": 0
}

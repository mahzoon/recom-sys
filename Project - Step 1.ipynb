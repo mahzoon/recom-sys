{
 "cells": [
  {
   "cell_type": "markdown",
   "metadata": {},
   "source": [
    "# Step1"
   ]
  },
  {
   "cell_type": "markdown",
   "metadata": {},
   "source": [
    "What this step does:\n",
    "* Converts implicit feedbacks to ratings\n",
    "* Fixes the BookID padding problem\n",
    "* Produces intermediate files for the next step"
   ]
  },
  {
   "cell_type": "code",
   "execution_count": 1,
   "metadata": {
    "collapsed": false
   },
   "outputs": [],
   "source": [
    "import pandas as pd\n",
    "import pickle\n",
    "import numpy as np\n",
    "import matplotlib.pyplot as plt\n",
    "%matplotlib inline\n",
    "from IPython.display import clear_output"
   ]
  },
  {
   "cell_type": "markdown",
   "metadata": {},
   "source": [
    "### Loading Files"
   ]
  },
  {
   "cell_type": "code",
   "execution_count": 2,
   "metadata": {
    "collapsed": true
   },
   "outputs": [],
   "source": [
    "books = pd.read_csv('./data/BX-Books.csv', sep=';', quotechar='\"', escapechar='\\\\', header=0)\n",
    "users = pd.read_csv('./data/BX-Users.csv')\n",
    "ratings_train = pd.read_csv('./data/BX_train.csv',\n",
    "                            header=None, names=['UserID', 'BookID', 'Rating'])\n",
    "ratings_test = pd.read_csv('./data/BX_test.csv',\n",
    "                           header=None, names=['UserID', 'BookID', 'Rating'])"
   ]
  },
  {
   "cell_type": "markdown",
   "metadata": {},
   "source": [
    "Rebuilding train/test"
   ]
  },
  {
   "cell_type": "code",
   "execution_count": 3,
   "metadata": {
    "collapsed": true
   },
   "outputs": [],
   "source": [
    "test_submission = ratings_test[ratings_test.Rating == 55]\n",
    "tmp = ratings_test[ratings_test.Rating != 55]\n",
    "train_explicit = ratings_train[ratings_train.Rating != 0]\n",
    "train_explicit = train_explicit.append(tmp)\n",
    "train_implicit = ratings_train[ratings_train.Rating == 0]"
   ]
  },
  {
   "cell_type": "markdown",
   "metadata": {},
   "source": [
    "## Converting implicit feedbacks to ratings"
   ]
  },
  {
   "cell_type": "markdown",
   "metadata": {},
   "source": [
    "Assume that we want to convert the implicit rating for item i for user u, and I is the set of other users who rated item i. Then:"
   ]
  },
  {
   "cell_type": "markdown",
   "metadata": {},
   "source": [
    "$$ R_{ui} = \\mu_{u} + \\frac{\\sum_{s\\in{I}}{(R_{si} - \\mu_{s})}}{len(I)} + \\lambda $$"
   ]
  },
  {
   "cell_type": "markdown",
   "metadata": {},
   "source": [
    "* The first term is the average rating value for user u\n",
    "* The second term is the unbiased goodness of item i, which is the average unbiased current explicit ratings. To calculate this, assume that I is the set of users who explicitly rated the item i. Then the average unbiased ratings of item i would be the average distance of explicit ratings and average user ratings. \n",
    "* The third term (lambda) is the implicit rating constant. This can be set to 1 in a rating scale of 10.\n",
    "* For 'new user' situation we consider average of all ratings (~7.57) for the first term."
   ]
  },
  {
   "cell_type": "code",
   "execution_count": 4,
   "metadata": {
    "collapsed": true
   },
   "outputs": [],
   "source": [
    "train_explicit_grouped_by_user = train_explicit[['UserID', 'Rating']].groupby('UserID')\n",
    "adjusted_ratings = train_explicit.copy()\n",
    "adjusted_ratings['Rating'] = train_explicit['Rating'] - \\\n",
    "                            train_explicit_grouped_by_user.transform('mean')['Rating']"
   ]
  },
  {
   "cell_type": "code",
   "execution_count": 5,
   "metadata": {
    "collapsed": true
   },
   "outputs": [],
   "source": [
    "train_explicit_item_mean = adjusted_ratings.groupby('BookID').mean()['Rating'].to_dict()\n",
    "train_explicit_user_mean = train_explicit_grouped_by_user.mean()['Rating'].to_dict()"
   ]
  },
  {
   "cell_type": "code",
   "execution_count": 6,
   "metadata": {
    "collapsed": true
   },
   "outputs": [],
   "source": [
    "train_implicit_conversion = train_implicit.copy()\n",
    "train_implicit_conversion['Rating'] = train_implicit_conversion.Rating.astype(pd.np.float64)\n",
    "counter = 1\n",
    "max_counter = len(train_implicit_conversion)\n",
    "update_step = max_counter / 10\n",
    "baseline_rating = train_explicit.Rating.mean()"
   ]
  },
  {
   "cell_type": "markdown",
   "metadata": {},
   "source": [
    "This cell takes a minute or two to execute:"
   ]
  },
  {
   "cell_type": "code",
   "execution_count": 7,
   "metadata": {
    "collapsed": false
   },
   "outputs": [
    {
     "name": "stdout",
     "output_type": "stream",
     "text": [
      "100%\n"
     ]
    }
   ],
   "source": [
    "for i, row in train_implicit_conversion.iterrows():\n",
    "    term1 = 0\n",
    "    if row.UserID in train_explicit_user_mean:\n",
    "        term1 = train_explicit_user_mean[row.UserID]\n",
    "    else:\n",
    "        term1 = baseline_rating\n",
    "    term2 = 0\n",
    "    if row.BookID in train_explicit_item_mean:\n",
    "        term2 = train_explicit_item_mean[row.BookID]\n",
    "    term3 = 1 if (term1 + term2) < 9 else 0\n",
    "    rating = term1 + term2 + term3\n",
    "    if rating < 1:\n",
    "        rating = 1\n",
    "    if rating > 10: # impossible!\n",
    "        rating = 10\n",
    "    train_implicit_conversion.set_value(i, 'Rating', rating)\n",
    "    if counter % update_step == 0:\n",
    "        clear_output()\n",
    "        print str(counter * 100 / max_counter) + \"%\"\n",
    "    counter = counter + 1"
   ]
  },
  {
   "cell_type": "code",
   "execution_count": 8,
   "metadata": {
    "collapsed": true
   },
   "outputs": [],
   "source": [
    "train_all = train_explicit.append(train_implicit_conversion)"
   ]
  },
  {
   "cell_type": "markdown",
   "metadata": {},
   "source": [
    "## Fixing Book ID padding problem"
   ]
  },
  {
   "cell_type": "code",
   "execution_count": 9,
   "metadata": {
    "collapsed": false
   },
   "outputs": [
    {
     "name": "stderr",
     "output_type": "stream",
     "text": [
      "/anaconda/lib/python2.7/site-packages/ipykernel/__main__.py:5: SettingWithCopyWarning: \n",
      "A value is trying to be set on a copy of a slice from a DataFrame.\n",
      "Try using .loc[row_indexer,col_indexer] = value instead\n",
      "\n",
      "See the caveats in the documentation: http://pandas.pydata.org/pandas-docs/stable/indexing.html#indexing-view-versus-copy\n",
      "/anaconda/lib/python2.7/site-packages/ipykernel/__main__.py:6: SettingWithCopyWarning: \n",
      "A value is trying to be set on a copy of a slice from a DataFrame.\n",
      "Try using .loc[row_indexer,col_indexer] = value instead\n",
      "\n",
      "See the caveats in the documentation: http://pandas.pydata.org/pandas-docs/stable/indexing.html#indexing-view-versus-copy\n"
     ]
    }
   ],
   "source": [
    "train_explicit['BookID_org'] = train_explicit['BookID']\n",
    "train_explicit['BookID'] = train_explicit['BookID'].apply(lambda x: x.zfill(10))\n",
    "train_all['BookID_org'] = train_all['BookID']\n",
    "train_all['BookID'] = train_all['BookID'].apply(lambda x: x.zfill(10))\n",
    "test_submission['BookID_org'] = test_submission['BookID']\n",
    "test_submission['BookID'] = test_submission['BookID'].apply(lambda x: x.zfill(10))"
   ]
  },
  {
   "cell_type": "markdown",
   "metadata": {},
   "source": [
    "## Saving results for the next step"
   ]
  },
  {
   "cell_type": "code",
   "execution_count": 14,
   "metadata": {
    "collapsed": true
   },
   "outputs": [],
   "source": [
    "pickle.dump(train_explicit, open('./data/input_1.pcl', 'wb'))\n",
    "pickle.dump(train_all, open('./data/input_2.pcl', 'wb'))\n",
    "pickle.dump(test_submission, open('./data/input_3.pcl', 'wb'))"
   ]
  }
 ],
 "metadata": {
  "kernelspec": {
   "display_name": "Python 2",
   "language": "python",
   "name": "python2"
  },
  "language_info": {
   "codemirror_mode": {
    "name": "ipython",
    "version": 2
   },
   "file_extension": ".py",
   "mimetype": "text/x-python",
   "name": "python",
   "nbconvert_exporter": "python",
   "pygments_lexer": "ipython2",
   "version": "2.7.13"
  }
 },
 "nbformat": 4,
 "nbformat_minor": 1
}

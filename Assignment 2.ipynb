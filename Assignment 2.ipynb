{
 "cells": [
  {
   "cell_type": "markdown",
   "metadata": {},
   "source": [
    "# Assignment 2: Content-based Filtering"
   ]
  },
  {
   "cell_type": "markdown",
   "metadata": {},
   "source": [
    "## Reading Data"
   ]
  },
  {
   "cell_type": "code",
   "execution_count": 1,
   "metadata": {
    "collapsed": true
   },
   "outputs": [],
   "source": [
    "import pandas as pd\n",
    "import numpy as np"
   ]
  },
  {
   "cell_type": "code",
   "execution_count": 2,
   "metadata": {
    "collapsed": false
   },
   "outputs": [],
   "source": [
    "tags = pd.read_csv('data/movie-tags.csv', header=None, names=['movie_id', 'tag'])\n",
    "movies = pd.read_csv('data/movie-titles.csv', header=None, names=['movie_id', 'movie', 'genres'])\n",
    "ratings = pd.read_csv('data/ratings.csv', header=None, names=['user_id', 'movie_id', 'rating'])"
   ]
  },
  {
   "cell_type": "markdown",
   "metadata": {},
   "source": [
    "## Part 1: TF-IDF Recommender with Unweighted Profiles"
   ]
  },
  {
   "cell_type": "markdown",
   "metadata": {
    "collapsed": true
   },
   "source": [
    "### Compute item-tag vectors (the model)"
   ]
  },
  {
   "cell_type": "markdown",
   "metadata": {},
   "source": [
    "Step 1: Iterate through items, building the term vector 𝒒𝑖 for each item and a global document frequency vector 𝒅. At this stage, these are unnormalized term and document frequency vectors, storing the number of times the term appears on each document or the number of documents in which it appears."
   ]
  },
  {
   "cell_type": "markdown",
   "metadata": {},
   "source": [
    "* first initializing item_tag_dict"
   ]
  },
  {
   "cell_type": "code",
   "execution_count": 3,
   "metadata": {
    "collapsed": true
   },
   "outputs": [],
   "source": [
    "item_tag_dict = {}\n",
    "for movie in movies['movie_id'].tolist():\n",
    "    item_tag_dict[movie] = {}"
   ]
  },
  {
   "cell_type": "markdown",
   "metadata": {},
   "source": [
    "* then, filling item_tag_dict"
   ]
  },
  {
   "cell_type": "code",
   "execution_count": 4,
   "metadata": {
    "collapsed": false
   },
   "outputs": [],
   "source": [
    "item_tags = tags.groupby('movie_id')\n",
    "for item in item_tags:\n",
    "    item_i_tags = item[1]['tag'].value_counts().to_dict()\n",
    "    item_tag_dict[item[0]] = item_i_tags\n",
    "Q = pd.DataFrame.from_dict(item_tag_dict, orient='index')"
   ]
  },
  {
   "cell_type": "markdown",
   "metadata": {},
   "source": [
    "* also, we need to put items with no tag count in Q, and sort it based on item_id"
   ]
  },
  {
   "cell_type": "code",
   "execution_count": 5,
   "metadata": {
    "collapsed": true
   },
   "outputs": [],
   "source": [
    "item_with_no_tags = [i for i in item_tag_dict.keys() if len(item_tag_dict[i]) == 0]\n",
    "for item in item_with_no_tags:\n",
    "    Q.loc[item] = np.nan\n",
    "Q = Q.sort_index()"
   ]
  },
  {
   "cell_type": "markdown",
   "metadata": {},
   "source": [
    "Step 2: Iterate through each item again, performing the following:<br />\n",
    "&nbsp;&nbsp;&nbsp;&nbsp;&nbsp;&nbsp;a. Divide each term value 𝑞̂𝑖𝑡 by the log of the document frequency (𝑙𝑛 𝑑𝑡). The resulting\n",
    "vector 𝒒𝑖 is the TF-IDF vector."
   ]
  },
  {
   "cell_type": "code",
   "execution_count": 6,
   "metadata": {
    "collapsed": false
   },
   "outputs": [],
   "source": [
    "df = Q.count()\n",
    "lnn = np.log(Q.shape[0])\n",
    "idf = lnn - np.log(df)\n",
    "Q = Q.fillna(0)\n",
    "Q = Q*idf"
   ]
  },
  {
   "cell_type": "markdown",
   "metadata": {},
   "source": [
    "&nbsp;&nbsp;&nbsp;&nbsp;&nbsp;&nbsp;b. After dividing each term value by the log of the DF, compute the length (Euclidean norm) of the TF-IDF vector 𝒒𝑖, and divide each element of it by the length to yield a unit vector 𝒒𝑖. "
   ]
  },
  {
   "cell_type": "code",
   "execution_count": 9,
   "metadata": {
    "collapsed": false
   },
   "outputs": [],
   "source": [
    "Q = Q.div(np.sqrt(np.square(Q).sum(axis=1)), axis=0)\n",
    "Q = Q.fillna(0)"
   ]
  },
  {
   "cell_type": "markdown",
   "metadata": {
    "collapsed": true
   },
   "source": [
    "### Build user profile for each query user"
   ]
  },
  {
   "cell_type": "markdown",
   "metadata": {},
   "source": [
    "The profile is the sum of the item-tag vectors of all items the user has rated positively (>= 3.5 stars)"
   ]
  },
  {
   "cell_type": "markdown",
   "metadata": {},
   "source": [
    "$$ p_{ut} = \\sum_{i\\in{I},\\, r_{ui} \\geq{3.5}}{q_{it}} $$"
   ]
  },
  {
   "cell_type": "markdown",
   "metadata": {},
   "source": [
    "* first building the user rating matrix (movies * users)"
   ]
  },
  {
   "cell_type": "code",
   "execution_count": 11,
   "metadata": {
    "collapsed": false
   },
   "outputs": [],
   "source": [
    "item_rating_dict = {}\n",
    "item_ratings = ratings.groupby('movie_id')\n",
    "for item in item_ratings:\n",
    "    item_i_ratings = item[1][['user_id','rating']].set_index('user_id').to_dict()['rating']\n",
    "    item_rating_dict[item[0]] = item_i_ratings\n",
    "R = pd.DataFrame.from_dict(item_rating_dict, orient='index')\n",
    "R = R.sort_index()\n",
    "R = R.T"
   ]
  },
  {
   "cell_type": "markdown",
   "metadata": {},
   "source": [
    "* then, converting ratings to 1 if ratings>=3.5 otherwise 0"
   ]
  },
  {
   "cell_type": "code",
   "execution_count": 12,
   "metadata": {
    "collapsed": false
   },
   "outputs": [],
   "source": [
    "R35 = R.copy()\n",
    "R35[R35<3.5]=0\n",
    "R35[R35>=3.5]=1\n",
    "R35 = R35.fillna(0)"
   ]
  },
  {
   "cell_type": "markdown",
   "metadata": {},
   "source": [
    "* finally, doing the dot product"
   ]
  },
  {
   "cell_type": "code",
   "execution_count": 13,
   "metadata": {
    "collapsed": false
   },
   "outputs": [],
   "source": [
    "P = R35.dot(Q)"
   ]
  },
  {
   "cell_type": "markdown",
   "metadata": {},
   "source": [
    "### Generate item scores for each user"
   ]
  },
  {
   "cell_type": "markdown",
   "metadata": {},
   "source": [
    "The score for an item is the cosine between that item’s tag vector and the user’s profile vector.<br />\n",
    "Cosine similarity is defined as follows:"
   ]
  },
  {
   "cell_type": "markdown",
   "metadata": {},
   "source": [
    "$$ \\cos{(p_{u},\\,q_{i})} = \\frac{p_{u} \\cdot q_{i}}{\\parallel p_{u} \\parallel_{2} \\parallel q_{i} \\parallel_{2}} = \\frac{\\sum_{t}{q_{ut}p_{ut}}}{\\sqrt{\\sum_{t}{q_{ut}^2}}\\sqrt{\\sum_{t}{p_{ut}^2}}} $$"
   ]
  },
  {
   "cell_type": "code",
   "execution_count": 14,
   "metadata": {
    "collapsed": false
   },
   "outputs": [],
   "source": [
    "from scipy.spatial.distance import cdist"
   ]
  },
  {
   "cell_type": "markdown",
   "metadata": {},
   "source": [
    "* pairwise 'cosine' distance"
   ]
  },
  {
   "cell_type": "code",
   "execution_count": 15,
   "metadata": {
    "collapsed": true
   },
   "outputs": [],
   "source": [
    "c = cdist(P.values, Q.values, 'cosine')"
   ]
  },
  {
   "cell_type": "markdown",
   "metadata": {},
   "source": [
    "* cosine similarity score matrix (user * item)"
   ]
  },
  {
   "cell_type": "code",
   "execution_count": 16,
   "metadata": {
    "collapsed": false
   },
   "outputs": [],
   "source": [
    "S = pd.DataFrame(1 - c, index=P.index, columns=Q.index)"
   ]
  },
  {
   "cell_type": "code",
   "execution_count": 49,
   "metadata": {
    "collapsed": true
   },
   "outputs": [],
   "source": [
    "def GetTopTenForUser(user_id):\n",
    "    s = S.loc[user_id]\n",
    "    s = s[s.notnull() & s != 0].sort_values()\n",
    "    return s.nlargest(10)"
   ]
  },
  {
   "cell_type": "markdown",
   "metadata": {},
   "source": [
    "user 106512, recomms: 32587, 5878, 34405, 1219, 51662, 96610, 68358, 1035, 1748, 55820"
   ]
  },
  {
   "cell_type": "code",
   "execution_count": 91,
   "metadata": {
    "collapsed": false
   },
   "outputs": [
    {
     "data": {
      "text/plain": [
       "3000     0.319965\n",
       "5618     0.319893\n",
       "260      0.315742\n",
       "912      0.314120\n",
       "31658    0.301880\n",
       "1206     0.299537\n",
       "7099     0.298290\n",
       "48394    0.287041\n",
       "2959     0.282227\n",
       "6350     0.278408\n",
       "Name: 106512, dtype: float64"
      ]
     },
     "execution_count": 91,
     "metadata": {},
     "output_type": "execute_result"
    }
   ],
   "source": [
    "GetTopTenForUser(106512)"
   ]
  },
  {
   "cell_type": "markdown",
   "metadata": {
    "collapsed": false
   },
   "source": [
    "## Part 2: Weighted User Profile"
   ]
  },
  {
   "cell_type": "markdown",
   "metadata": {
    "collapsed": true
   },
   "source": [
    "In this variant, rather than just summing the vectors for all positively-rated items, compute a weighted sum of the item vectors for all rated items, with weights being based on the user’s rating:"
   ]
  },
  {
   "cell_type": "markdown",
   "metadata": {},
   "source": [
    "$$ p_{u} = \\sum_{i\\in{I(u)}}{ (r_{ui} - \\mu_{u}) \\cdot q_{i} } $$"
   ]
  },
  {
   "cell_type": "code",
   "execution_count": 17,
   "metadata": {
    "collapsed": false
   },
   "outputs": [],
   "source": [
    "RW = R.copy()\n",
    "mu = RW.mean(axis=1)\n",
    "W = RW.sub(mu, axis=0)\n",
    "W = W.fillna(0)"
   ]
  },
  {
   "cell_type": "code",
   "execution_count": 18,
   "metadata": {
    "collapsed": false
   },
   "outputs": [],
   "source": [
    "PW = W.dot(Q)"
   ]
  },
  {
   "cell_type": "code",
   "execution_count": 44,
   "metadata": {
    "collapsed": false
   },
   "outputs": [],
   "source": [
    "from scipy.spatial.distance import cdist\n",
    "cw = cdist(PW.values, Q.values, 'cosine')\n",
    "SW = pd.DataFrame(1 - cw, index=PW.index, columns=Q.index)"
   ]
  },
  {
   "cell_type": "code",
   "execution_count": 45,
   "metadata": {
    "collapsed": true
   },
   "outputs": [],
   "source": [
    "def GetTopTenForUser_Weighted(user_id):\n",
    "    sw = SW.loc[user_id]\n",
    "    sw = sw[sw.notnull() & sw != 0].sort_values()\n",
    "    return sw.nlargest(10)"
   ]
  },
  {
   "cell_type": "code",
   "execution_count": 52,
   "metadata": {
    "collapsed": false
   },
   "outputs": [
    {
     "data": {
      "text/plain": [
       "2959     0.351385\n",
       "50       0.263043\n",
       "2858     0.261798\n",
       "923      0.238596\n",
       "260      0.222713\n",
       "6711     0.217404\n",
       "4878     0.213215\n",
       "47       0.208188\n",
       "48394    0.203743\n",
       "296      0.203630\n",
       "Name: 320, dtype: float64"
      ]
     },
     "execution_count": 52,
     "metadata": {},
     "output_type": "execute_result"
    }
   ],
   "source": [
    "GetTopTenForUser_Weighted(320)"
   ]
  },
  {
   "cell_type": "code",
   "execution_count": null,
   "metadata": {
    "collapsed": true
   },
   "outputs": [],
   "source": []
  }
 ],
 "metadata": {
  "kernelspec": {
   "display_name": "Python 2",
   "language": "python",
   "name": "python2"
  },
  "language_info": {
   "codemirror_mode": {
    "name": "ipython",
    "version": 2
   },
   "file_extension": ".py",
   "mimetype": "text/x-python",
   "name": "python",
   "nbconvert_exporter": "python",
   "pygments_lexer": "ipython2",
   "version": "2.7.11"
  }
 },
 "nbformat": 4,
 "nbformat_minor": 0
}

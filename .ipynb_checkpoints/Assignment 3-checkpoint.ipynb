{
 "cells": [
  {
   "cell_type": "markdown",
   "metadata": {},
   "source": [
    "# Assignment 3: Collaborative Filtering (user-user)"
   ]
  },
  {
   "cell_type": "markdown",
   "metadata": {},
   "source": [
    "### Reading Data"
   ]
  },
  {
   "cell_type": "code",
   "execution_count": 1,
   "metadata": {
    "collapsed": true
   },
   "outputs": [],
   "source": [
    "import pandas as pd\n",
    "import numpy as np\n",
    "from scipy.spatial.distance import pdist, squareform"
   ]
  },
  {
   "cell_type": "code",
   "execution_count": 2,
   "metadata": {
    "collapsed": false
   },
   "outputs": [],
   "source": [
    "tags = pd.read_csv('data/movie-tags.csv', header=None, names=['movie_id', 'tag'])\n",
    "movies = pd.read_csv('data/movie-titles.csv', header=None, names=['movie_id', 'movie', 'genres'])\n",
    "ratings = pd.read_csv('data/ratings.csv', header=None, names=['user_id', 'movie_id', 'rating'])"
   ]
  },
  {
   "cell_type": "markdown",
   "metadata": {
    "collapsed": true
   },
   "source": [
    "### Score Adjustment"
   ]
  },
  {
   "cell_type": "markdown",
   "metadata": {},
   "source": [
    "First, you will adjust each user’s rating vector by subtracting that user’s mean rating from each of their ratings (this corrects for the fact that some users think 5 stars is anything worth seeing and others think 3 stars is very good)."
   ]
  },
  {
   "cell_type": "markdown",
   "metadata": {},
   "source": [
    "* computing each user's mean rating"
   ]
  },
  {
   "cell_type": "code",
   "execution_count": 3,
   "metadata": {
    "collapsed": false
   },
   "outputs": [],
   "source": [
    "users_ratings = ratings.groupby('user_id')\n",
    "means = users_ratings.transform('mean')"
   ]
  },
  {
   "cell_type": "markdown",
   "metadata": {},
   "source": [
    "* subtracting each user's mean rating from their ratings"
   ]
  },
  {
   "cell_type": "code",
   "execution_count": 4,
   "metadata": {
    "collapsed": false
   },
   "outputs": [],
   "source": [
    "adjusted_ratings = ratings.copy()\n",
    "adjusted_ratings['rating'] = ratings['rating'] - means['rating']"
   ]
  },
  {
   "cell_type": "markdown",
   "metadata": {},
   "source": [
    "* create user item ratings"
   ]
  },
  {
   "cell_type": "code",
   "execution_count": 5,
   "metadata": {
    "collapsed": false
   },
   "outputs": [],
   "source": [
    "user_item_matrix = adjusted_ratings.pivot(index='user_id', columns='movie_id', values='rating')\n",
    "user_item_matrix = user_item_matrix.fillna(0)"
   ]
  },
  {
   "cell_type": "code",
   "execution_count": 6,
   "metadata": {
    "collapsed": true
   },
   "outputs": [],
   "source": [
    "movie_ratings = adjusted_ratings.groupby('movie_id')"
   ]
  },
  {
   "cell_type": "markdown",
   "metadata": {},
   "source": [
    "### Find Similar Users"
   ]
  },
  {
   "cell_type": "markdown",
   "metadata": {},
   "source": [
    "* create pairwise cosine similarity matrix between users"
   ]
  },
  {
   "cell_type": "code",
   "execution_count": 7,
   "metadata": {
    "collapsed": false
   },
   "outputs": [],
   "source": [
    "similarities = squareform(1 - pdist(user_item_matrix, 'cosine'))\n",
    "similarity_matrix = pd.DataFrame(similarities,\n",
    "                                 index=user_item_matrix.index, columns=user_item_matrix.index)"
   ]
  },
  {
   "cell_type": "markdown",
   "metadata": {},
   "source": [
    "* find users who rated the target item"
   ]
  },
  {
   "cell_type": "code",
   "execution_count": 8,
   "metadata": {
    "collapsed": false
   },
   "outputs": [],
   "source": [
    "def find_users_rated_item(item_id):\n",
    "    return movie_ratings.get_group(item_id)['user_id'].values"
   ]
  },
  {
   "cell_type": "markdown",
   "metadata": {},
   "source": [
    "* find top 30 similar users to the target user and filter those who rated the target item"
   ]
  },
  {
   "cell_type": "code",
   "execution_count": 9,
   "metadata": {
    "collapsed": true
   },
   "outputs": [],
   "source": [
    "def find_similar_users(target_user, target_item, user_limit=30):\n",
    "    similar_users = similarity_matrix[target_user]\n",
    "    users_rated_target_item = find_users_rated_item(target_item)\n",
    "    similar_users = similar_users[users_rated_target_item]\n",
    "    similar_users = similar_users.nlargest(30)\n",
    "    return similar_users"
   ]
  },
  {
   "cell_type": "markdown",
   "metadata": {},
   "source": [
    "### Combine Ratings"
   ]
  },
  {
   "cell_type": "markdown",
   "metadata": {},
   "source": [
    "* apply weighted average on ratings to combine and use cosine similarity as the weights"
   ]
  },
  {
   "cell_type": "code",
   "execution_count": 10,
   "metadata": {
    "collapsed": true
   },
   "outputs": [],
   "source": [
    "def get_adjusted_score(target_user, target_item):\n",
    "    similarities = find_similar_users(target_user, target_item)\n",
    "    r = user_item_matrix.loc[similarities.index]\n",
    "    return sum(r[target_item] * similarities)/sum(abs(similarities))"
   ]
  },
  {
   "cell_type": "markdown",
   "metadata": {},
   "source": [
    "### Calculate Prediction Score"
   ]
  },
  {
   "cell_type": "markdown",
   "metadata": {},
   "source": [
    "* re-adjust the prediction back the target user’s original rating scale by adding the target user’s mean rating back into the prediction"
   ]
  },
  {
   "cell_type": "code",
   "execution_count": 11,
   "metadata": {
    "collapsed": false
   },
   "outputs": [],
   "source": [
    "def get_predictions(target_user, target_item=None, item_limit=10):\n",
    "    if not target_user in similarity_matrix:\n",
    "        print \"cannot find this target user: \", target_user\n",
    "        return\n",
    "    target_user_rating_mean = users_ratings.get_group(target_user)['rating'].mean()\n",
    "    \n",
    "    if target_item == None:\n",
    "        target_item = [x for x in movies['movie_id'].values\n",
    "                       if not x in users_ratings.get_group(target_user)['movie_id'].values]\n",
    "    \n",
    "    if not isinstance(target_item, list):\n",
    "        print type(target_item)\n",
    "        return target_user_rating_mean + get_adjusted_score(target_user, target_item)\n",
    "    \n",
    "    \n",
    "    predictions = {}\n",
    "    for item in target_item:\n",
    "        mean_adjusted_rating = get_adjusted_score(target_user, item)\n",
    "        predictions[item] = target_user_rating_mean + mean_adjusted_rating\n",
    "    return pd.Series(predictions).nlargest(item_limit)"
   ]
  },
  {
   "cell_type": "markdown",
   "metadata": {},
   "source": [
    "## Predicting -- Usage Examples"
   ]
  },
  {
   "cell_type": "code",
   "execution_count": 12,
   "metadata": {
    "collapsed": false
   },
   "outputs": [
    {
     "data": {
      "text/plain": [
       "858      4.561585\n",
       "2360     4.555820\n",
       "318      4.555679\n",
       "8638     4.511598\n",
       "7371     4.511268\n",
       "922      4.503316\n",
       "1217     4.497019\n",
       "44555    4.490616\n",
       "1089     4.479172\n",
       "2859     4.467170\n",
       "dtype: float64"
      ]
     },
     "execution_count": 12,
     "metadata": {},
     "output_type": "execute_result"
    }
   ],
   "source": [
    "get_predictions(320)"
   ]
  },
  {
   "cell_type": "code",
   "execution_count": 13,
   "metadata": {
    "collapsed": false
   },
   "outputs": [
    {
     "data": {
      "text/plain": [
       "922    4.503316\n",
       "123    4.441667\n",
       "11     3.522166\n",
       "dtype: float64"
      ]
     },
     "execution_count": 13,
     "metadata": {},
     "output_type": "execute_result"
    }
   ],
   "source": [
    "get_predictions(320, target_item=[11,922,123])"
   ]
  }
 ],
 "metadata": {
  "kernelspec": {
   "display_name": "Python 2",
   "language": "python",
   "name": "python2"
  },
  "language_info": {
   "codemirror_mode": {
    "name": "ipython",
    "version": 2
   },
   "file_extension": ".py",
   "mimetype": "text/x-python",
   "name": "python",
   "nbconvert_exporter": "python",
   "pygments_lexer": "ipython2",
   "version": "2.7.11"
  }
 },
 "nbformat": 4,
 "nbformat_minor": 0
}

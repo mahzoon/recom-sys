{
 "cells": [
  {
   "cell_type": "markdown",
   "metadata": {},
   "source": [
    "# Assignment 4: Collaborative Filtering (item-item)"
   ]
  },
  {
   "cell_type": "markdown",
   "metadata": {},
   "source": [
    "### Reading Data"
   ]
  },
  {
   "cell_type": "code",
   "execution_count": 1,
   "metadata": {
    "collapsed": true
   },
   "outputs": [],
   "source": [
    "import pandas as pd\n",
    "import numpy as np\n",
    "from scipy.spatial.distance import pdist, squareform"
   ]
  },
  {
   "cell_type": "code",
   "execution_count": 2,
   "metadata": {
    "collapsed": false
   },
   "outputs": [],
   "source": [
    "tags = pd.read_csv('data/movie-tags.csv', header=None, names=['movie_id', 'tag'])\n",
    "movies = pd.read_csv('data/movie-titles.csv', header=None, names=['movie_id', 'movie', 'genres'])\n",
    "ratings = pd.read_csv('data/ratings.csv', header=None, names=['user_id', 'movie_id', 'rating'])"
   ]
  },
  {
   "cell_type": "markdown",
   "metadata": {},
   "source": [
    "## 1. Compute Similarities:\n",
    "compute the similarities between items and store them in a model:"
   ]
  },
  {
   "cell_type": "markdown",
   "metadata": {
    "collapsed": true
   },
   "source": [
    "* Normalize each item rating vector by subtracting the item’s mean rating from each rating prior to computing similarities"
   ]
  },
  {
   "cell_type": "code",
   "execution_count": 3,
   "metadata": {
    "collapsed": false
   },
   "outputs": [],
   "source": [
    "movies_ratings = ratings.groupby('movie_id')\n",
    "means = movies_ratings.transform('mean')\n",
    "item_mean_ratings = movies_ratings.mean()"
   ]
  },
  {
   "cell_type": "markdown",
   "metadata": {},
   "source": [
    "subtracting each item's mean rating from their ratings"
   ]
  },
  {
   "cell_type": "code",
   "execution_count": 4,
   "metadata": {
    "collapsed": false
   },
   "outputs": [],
   "source": [
    "adjusted_ratings = ratings.copy()\n",
    "adjusted_ratings['rating'] = ratings['rating'] - means['rating']"
   ]
  },
  {
   "cell_type": "markdown",
   "metadata": {},
   "source": [
    "create item user ratings"
   ]
  },
  {
   "cell_type": "code",
   "execution_count": 5,
   "metadata": {
    "collapsed": false
   },
   "outputs": [],
   "source": [
    "item_user_matrix = adjusted_ratings.pivot(index='movie_id', columns='user_id', values='rating')\n",
    "item_user_matrix = item_user_matrix.fillna(0)"
   ]
  },
  {
   "cell_type": "code",
   "execution_count": 6,
   "metadata": {
    "collapsed": true
   },
   "outputs": [],
   "source": [
    "user_ratings = adjusted_ratings.groupby('user_id')"
   ]
  },
  {
   "cell_type": "markdown",
   "metadata": {},
   "source": [
    "* Use cosine similarity between normalized item rating vectors"
   ]
  },
  {
   "cell_type": "markdown",
   "metadata": {},
   "source": [
    "create pairwise cosine similarity matrix between users"
   ]
  },
  {
   "cell_type": "code",
   "execution_count": 7,
   "metadata": {
    "collapsed": false
   },
   "outputs": [],
   "source": [
    "similarities = squareform(1 - pdist(item_user_matrix, 'cosine'))\n",
    "similarity_matrix = pd.DataFrame(similarities,\n",
    "                                 index=item_user_matrix.index, columns=item_user_matrix.index)"
   ]
  },
  {
   "cell_type": "markdown",
   "metadata": {},
   "source": [
    "## 2. Scoring items:\n",
    "score the items using the weighted average of the user’s ratings for similar items."
   ]
  },
  {
   "cell_type": "code",
   "execution_count": 8,
   "metadata": {
    "collapsed": false
   },
   "outputs": [],
   "source": [
    "def find_items_rated_by_user(user_id):\n",
    "    return user_ratings.get_group(user_id)['movie_id'].values"
   ]
  },
  {
   "cell_type": "markdown",
   "metadata": {},
   "source": [
    "* find top 30 similar items to the target user and filter those who rated by the target user"
   ]
  },
  {
   "cell_type": "code",
   "execution_count": 9,
   "metadata": {
    "collapsed": true
   },
   "outputs": [],
   "source": [
    "def find_similar_items(target_user, target_item, item_neighbor_limit=20):\n",
    "    similar_items = similarity_matrix[target_item]\n",
    "    items_rated_target_user = find_items_rated_by_user(target_user)\n",
    "    similar_items = similar_items[items_rated_target_user]\n",
    "    similar_items = similar_items.nlargest(item_neighbor_limit)\n",
    "    return similar_items[similar_items > 0]"
   ]
  },
  {
   "cell_type": "markdown",
   "metadata": {},
   "source": [
    "### Combine Ratings"
   ]
  },
  {
   "cell_type": "markdown",
   "metadata": {},
   "source": [
    "* apply weighted average on ratings to combine and use cosine similarity as the weights"
   ]
  },
  {
   "cell_type": "code",
   "execution_count": 10,
   "metadata": {
    "collapsed": true
   },
   "outputs": [],
   "source": [
    "def get_adjusted_score(target_user, target_item):\n",
    "    similarities = find_similar_items(target_user, target_item)\n",
    "    r = item_user_matrix.loc[similarities.index]\n",
    "    return sum(r[target_user] * similarities)/sum(abs(similarities))"
   ]
  },
  {
   "cell_type": "markdown",
   "metadata": {},
   "source": [
    "### Calculate Prediction Score"
   ]
  },
  {
   "cell_type": "markdown",
   "metadata": {},
   "source": [
    "* re-adjust the prediction"
   ]
  },
  {
   "cell_type": "code",
   "execution_count": 11,
   "metadata": {
    "collapsed": false
   },
   "outputs": [],
   "source": [
    "def get_predictions(target_user, target_item=None, top_n=10):\n",
    "    if not target_user in user_ratings.groups:\n",
    "        print \"this user has no ratings: \", target_user\n",
    "        return\n",
    "    \n",
    "    if target_item == None:\n",
    "        target_item = [x for x in movies['movie_id'].values\n",
    "                       if not x in user_ratings.get_group(target_user)['movie_id'].values]\n",
    "    \n",
    "    if not isinstance(target_item, list):\n",
    "        target_item_rating_mean = item_mean_ratings.loc[target_item]['rating']\n",
    "        return target_item_rating_mean + get_adjusted_score(target_user, target_item)\n",
    "    \n",
    "    predictions = {}\n",
    "    for item in target_item:\n",
    "        mean_adjusted_rating = get_adjusted_score(target_user, item)\n",
    "        target_item_rating_mean = item_mean_ratings.loc[item]['rating']\n",
    "        predictions[item] = target_item_rating_mean + mean_adjusted_rating\n",
    "    return pd.Series(predictions).nlargest(top_n)"
   ]
  },
  {
   "cell_type": "markdown",
   "metadata": {},
   "source": [
    "## Predicting -- Usage Examples"
   ]
  },
  {
   "cell_type": "code",
   "execution_count": 12,
   "metadata": {
    "collapsed": false
   },
   "outputs": [
    {
     "data": {
      "text/plain": [
       "7502     4.484422\n",
       "1224     4.422800\n",
       "858      4.407754\n",
       "318      4.402919\n",
       "1203     4.385783\n",
       "3462     4.378955\n",
       "99114    4.375891\n",
       "4973     4.375703\n",
       "898      4.371050\n",
       "922      4.356929\n",
       "dtype: float64"
      ]
     },
     "execution_count": 12,
     "metadata": {},
     "output_type": "execute_result"
    }
   ],
   "source": [
    "get_predictions(320)"
   ]
  },
  {
   "cell_type": "code",
   "execution_count": 13,
   "metadata": {
    "collapsed": false
   },
   "outputs": [
    {
     "data": {
      "text/plain": [
       "922    4.356929\n",
       "123    4.085160\n",
       "11     3.282354\n",
       "dtype: float64"
      ]
     },
     "execution_count": 13,
     "metadata": {},
     "output_type": "execute_result"
    }
   ],
   "source": [
    "get_predictions(320, target_item=[11,922,123])"
   ]
  }
 ],
 "metadata": {
  "kernelspec": {
   "display_name": "Python 2",
   "language": "python",
   "name": "python2"
  },
  "language_info": {
   "codemirror_mode": {
    "name": "ipython",
    "version": 2
   },
   "file_extension": ".py",
   "mimetype": "text/x-python",
   "name": "python",
   "nbconvert_exporter": "python",
   "pygments_lexer": "ipython2",
   "version": "2.7.11"
  }
 },
 "nbformat": 4,
 "nbformat_minor": 0
}

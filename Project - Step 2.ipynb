{
 "cells": [
  {
   "cell_type": "markdown",
   "metadata": {},
   "source": [
    "# Step 2"
   ]
  },
  {
   "cell_type": "markdown",
   "metadata": {},
   "source": [
    "What this step does:\n",
    "* Creates inputs usable for Neural Nets\n",
    "* Saving the results for the next step"
   ]
  },
  {
   "cell_type": "code",
   "execution_count": 1,
   "metadata": {
    "collapsed": false
   },
   "outputs": [],
   "source": [
    "import pandas as pd\n",
    "import pickle"
   ]
  },
  {
   "cell_type": "markdown",
   "metadata": {},
   "source": [
    "loading saved inputs"
   ]
  },
  {
   "cell_type": "code",
   "execution_count": 2,
   "metadata": {
    "collapsed": true
   },
   "outputs": [],
   "source": [
    "train_explicit = pickle.load(open('./data/input_1.pcl', 'rb'))\n",
    "train_all = pickle.load(open('./data/input_2.pcl', 'rb'))\n",
    "test_submission = pickle.load(open('./data/input_3.pcl', 'rb'))"
   ]
  },
  {
   "cell_type": "markdown",
   "metadata": {},
   "source": [
    "### Creating Inputs for NN"
   ]
  },
  {
   "cell_type": "markdown",
   "metadata": {},
   "source": [
    "re-create user ids, and book ids"
   ]
  },
  {
   "cell_type": "code",
   "execution_count": 3,
   "metadata": {
    "collapsed": false
   },
   "outputs": [
    {
     "name": "stdout",
     "output_type": "stream",
     "text": [
      "41636 56489\n",
      "113326 232625\n"
     ]
    }
   ],
   "source": [
    "print len(train_explicit.UserID.unique()), len(train_all.UserID.unique())\n",
    "print len(train_explicit.BookID.unique()), len(train_all.BookID.unique())"
   ]
  },
  {
   "cell_type": "code",
   "execution_count": 4,
   "metadata": {
    "collapsed": false
   },
   "outputs": [],
   "source": [
    "train_explicit_ws = train_explicit.append(test_submission)\n",
    "df_users = pd.DataFrame(train_explicit_ws.UserID.unique()).reset_index()\n",
    "df_books = pd.DataFrame(train_explicit_ws.BookID.unique()).reset_index()\n",
    "df_users.columns = ['user_id', 'id']\n",
    "df_books.columns = ['book_id', 'id']\n",
    "\n",
    "train_explicit_m = train_explicit_ws.merge(df_books, left_on='BookID', right_on='id', how='left')\n",
    "train_explicit_m = train_explicit_m.merge(df_users, left_on='UserID', right_on='id', how='left')\n",
    "train_explicit_m = train_explicit_m[['UserID', 'BookID', 'BookID_org',\n",
    "                                     'user_id', 'book_id',\n",
    "                                     'Rating']]"
   ]
  },
  {
   "cell_type": "code",
   "execution_count": 5,
   "metadata": {
    "collapsed": false
   },
   "outputs": [],
   "source": [
    "train_all_ws = train_all.append(test_submission)\n",
    "df_users = pd.DataFrame(train_all_ws.UserID.unique()).reset_index()\n",
    "df_books = pd.DataFrame(train_all_ws.BookID.unique()).reset_index()\n",
    "df_users.columns = ['user_id', 'id']\n",
    "df_books.columns = ['book_id', 'id']\n",
    "\n",
    "train_all_m = train_all_ws.merge(df_books, left_on='BookID', right_on='id', how='left')\n",
    "train_all_m = train_all_m.merge(df_users, left_on='UserID', right_on='id', how='left')\n",
    "train_all_m = train_all_m[['UserID', 'BookID', 'BookID_org',\n",
    "                           'user_id', 'book_id',\n",
    "                           'Rating']]"
   ]
  },
  {
   "cell_type": "code",
   "execution_count": 6,
   "metadata": {
    "collapsed": false
   },
   "outputs": [
    {
     "data": {
      "text/html": [
       "<div>\n",
       "<table border=\"1\" class=\"dataframe\">\n",
       "  <thead>\n",
       "    <tr style=\"text-align: right;\">\n",
       "      <th></th>\n",
       "      <th>UserID</th>\n",
       "      <th>BookID</th>\n",
       "      <th>BookID_org</th>\n",
       "      <th>user_id</th>\n",
       "      <th>book_id</th>\n",
       "      <th>Rating</th>\n",
       "    </tr>\n",
       "  </thead>\n",
       "  <tbody>\n",
       "    <tr>\n",
       "      <th>0</th>\n",
       "      <td>126788</td>\n",
       "      <td>0553284363</td>\n",
       "      <td>553284363</td>\n",
       "      <td>0</td>\n",
       "      <td>0</td>\n",
       "      <td>9.0</td>\n",
       "    </tr>\n",
       "    <tr>\n",
       "      <th>1</th>\n",
       "      <td>126788</td>\n",
       "      <td>0743458680</td>\n",
       "      <td>743458680</td>\n",
       "      <td>0</td>\n",
       "      <td>1</td>\n",
       "      <td>7.0</td>\n",
       "    </tr>\n",
       "    <tr>\n",
       "      <th>2</th>\n",
       "      <td>126788</td>\n",
       "      <td>0752848062</td>\n",
       "      <td>752848062</td>\n",
       "      <td>0</td>\n",
       "      <td>2</td>\n",
       "      <td>9.0</td>\n",
       "    </tr>\n",
       "    <tr>\n",
       "      <th>3</th>\n",
       "      <td>126788</td>\n",
       "      <td>0786866020</td>\n",
       "      <td>786866020</td>\n",
       "      <td>0</td>\n",
       "      <td>3</td>\n",
       "      <td>10.0</td>\n",
       "    </tr>\n",
       "    <tr>\n",
       "      <th>4</th>\n",
       "      <td>126788</td>\n",
       "      <td>1857238583</td>\n",
       "      <td>1857238583</td>\n",
       "      <td>0</td>\n",
       "      <td>4</td>\n",
       "      <td>10.0</td>\n",
       "    </tr>\n",
       "  </tbody>\n",
       "</table>\n",
       "</div>"
      ],
      "text/plain": [
       "   UserID      BookID  BookID_org  user_id  book_id  Rating\n",
       "0  126788  0553284363   553284363        0        0     9.0\n",
       "1  126788  0743458680   743458680        0        1     7.0\n",
       "2  126788  0752848062   752848062        0        2     9.0\n",
       "3  126788  0786866020   786866020        0        3    10.0\n",
       "4  126788  1857238583  1857238583        0        4    10.0"
      ]
     },
     "execution_count": 6,
     "metadata": {},
     "output_type": "execute_result"
    }
   ],
   "source": [
    "train_all_m.head()"
   ]
  },
  {
   "cell_type": "markdown",
   "metadata": {},
   "source": [
    "## Saving inputs for the next step"
   ]
  },
  {
   "cell_type": "code",
   "execution_count": null,
   "metadata": {
    "collapsed": true
   },
   "outputs": [],
   "source": [
    "pickle.dump(train_explicit_m, open('./data/id-based/train_explicit_m.pcl', 'wb'))\n",
    "pickle.dump(train_all_m, open('./data/id-based/train_all_m.pcl', 'wb'))"
   ]
  }
 ],
 "metadata": {
  "kernelspec": {
   "display_name": "Python 2",
   "language": "python",
   "name": "python2"
  },
  "language_info": {
   "codemirror_mode": {
    "name": "ipython",
    "version": 2
   },
   "file_extension": ".py",
   "mimetype": "text/x-python",
   "name": "python",
   "nbconvert_exporter": "python",
   "pygments_lexer": "ipython2",
   "version": "2.7.13"
  }
 },
 "nbformat": 4,
 "nbformat_minor": 1
}
